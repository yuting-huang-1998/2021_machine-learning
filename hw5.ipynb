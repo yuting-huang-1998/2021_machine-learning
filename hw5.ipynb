{
 "cells": [
  {
   "cell_type": "code",
   "execution_count": 1,
   "id": "2a47952a",
   "metadata": {},
   "outputs": [],
   "source": [
    "import numpy as np\n",
    "import matplotlib.pyplot as plt"
   ]
  },
  {
   "cell_type": "code",
   "execution_count": 2,
   "id": "2dc396c0",
   "metadata": {},
   "outputs": [
    {
     "name": "stdout",
     "output_type": "stream",
     "text": [
      "[[0 0 0 0 0 0 0 0 0 0]\n",
      " [0 1 1 1 1 0 0 0 1 1]\n",
      " [0 0 1 1 1 0 1 1 1 1]\n",
      " [0 0 1 1 0 0 1 1 1 1]\n",
      " [0 1 1 1 0 0 1 1 1 0]\n",
      " [0 0 0 0 0 0 0 0 1 0]\n",
      " [0 0 0 1 1 1 0 0 1 0]\n",
      " [0 0 0 1 1 1 1 0 0 0]\n",
      " [0 0 0 1 1 1 1 0 0 0]\n",
      " [0 0 0 0 0 0 1 0 0 0]]\n"
     ]
    }
   ],
   "source": [
    "island = ([[0, 0, 0, 0, 0, 0, 0, 0, 0, 0],\n",
    "            [0, 1, 1, 1, 1, 0, 0, 0, 1, 1],\n",
    "            [0, 0, 1, 1, 1, 0, 1, 1, 1, 1],\n",
    "            [0, 0, 1, 1, 0, 0, 1, 1, 1, 1],\n",
    "            [0, 1, 1, 1, 0, 0, 1, 1, 1, 0],\n",
    "            [0, 0, 0, 0, 0, 0, 0, 0, 1, 0],\n",
    "            [0, 0, 0, 1, 1, 1, 0, 0, 1, 0],\n",
    "            [0, 0, 0, 1, 1, 1, 1, 0, 0, 0],\n",
    "            [0, 0, 0, 1, 1, 1, 1, 0, 0, 0],\n",
    "            [0, 0, 0, 0, 0, 0, 1, 0, 0, 0]])\n",
    "island = np.array(island) ###array=10*10\n",
    "print(island)"
   ]
  },
  {
   "cell_type": "code",
   "execution_count": 3,
   "id": "ebee367a",
   "metadata": {},
   "outputs": [],
   "source": [
    "def checknum(island,num):\n",
    "    nums = 0\n",
    "    for i in range(island.shape[0]):\n",
    "        for j in range(island.shape[1]):\n",
    "            if island[i,j] == num:\n",
    "                nums += nums\n",
    "                return 1\n",
    "                break\n",
    "    if nums == 0:\n",
    "        return 0"
   ]
  },
  {
   "cell_type": "code",
   "execution_count": 4,
   "id": "4b2510a6",
   "metadata": {},
   "outputs": [],
   "source": [
    "def islandnum(island):\n",
    "    n = 10 ###array=10*10\n",
    "    islandnum = 2\n",
    "    while (checknum(island,1) == 1): ##目前位置判斷是1\n",
    "        for i in range(island.shape[0]):\n",
    "            for j in range(island.shape[1]):   \n",
    "                if island[i,j] == 1:\n",
    "                    island[i,j] = islandnum\n",
    "\n",
    "                    if i+1 <= n-1: ## x+1 位置判斷\n",
    "                        if island[i+1,j] == 1: #判斷位置是1\n",
    "                            island[i+1,j] = -1 #改成-1\n",
    "                    if i-1 >= 0:   ## x-1 位置判斷\n",
    "                        if island[i-1,j] == 1: #判斷位置是1\n",
    "                            island[i-1,j] = -1 #改成-1\n",
    "                    if j+1 <= n-1: ## y+1 位置判斷\n",
    "                        if island[i,j+1] == 1: #判斷位置是1\n",
    "                            island[i,j+1] = -1 #改成-1\n",
    "                    if j-1 >= 0:   ## y-1 位置判斷\n",
    "                        if island[i,j-1] == 1: #判斷位置是1\n",
    "                            island[i,j-1] = -1 #改成-1\n",
    "                    #print(island)\n",
    "                    \n",
    "                    while(checknum(island,-1) == 1): ##目前位置判斷是-1\n",
    "                        for ii in range(island.shape[0]):\n",
    "                            for jj in range(island.shape[1]):\n",
    "                                if island[ii,jj] == -1:\n",
    "                                    island[ii,jj] = islandnum\n",
    "\n",
    "                                    if ii+1 <= n-1: ## x+1 位置判斷\n",
    "                                        if island[ii+1,jj] == 1:\n",
    "                                            island[ii+1,jj] = -1\n",
    "                                    if ii-1 >= 0:   ## x-1 位置判斷\n",
    "                                        if island[ii-1,jj] == 1:\n",
    "                                            island[ii-1,jj] = -1\n",
    "                                    if jj+1 <= n-1: ## y+1 位置判斷\n",
    "                                        if island[ii,jj+1] == 1:\n",
    "                                            island[ii,jj+1] = -1\n",
    "                                    if jj-1 >= 0:   ## y-1 位置判斷\n",
    "                                        if island[ii,jj-1] == 1:\n",
    "                                            island[ii,jj-1] = -1\n",
    "                                    #print(island)\n",
    "                                    \n",
    "                    if checknum(island,-1) == 0:\n",
    "                        islandnum = islandnum + 1 \n",
    "                    #print(island)\n",
    "                        \n",
    "    islandnum = islandnum-2 #分成幾個島，要減掉原本參數設定數值\n",
    "    print(island)\n",
    "    return islandnum"
   ]
  },
  {
   "cell_type": "code",
   "execution_count": 5,
   "id": "4e16670b",
   "metadata": {},
   "outputs": [],
   "source": [
    "###計算島大小\n",
    "def islandsize(island,num):\n",
    "    islandsize = np.arange(num)*0\n",
    "    for k in range(2,2+num):\n",
    "        for i in range(island.shape[0]):\n",
    "            for j in range(island.shape[1]):\n",
    "                if island[i,j] == k: #islandnum=2\n",
    "                    islandsize[k-2] = islandsize[k-2] + 1  \n",
    "    return islandsize"
   ]
  },
  {
   "cell_type": "code",
   "execution_count": 6,
   "id": "e3d28ade",
   "metadata": {},
   "outputs": [
    {
     "name": "stdout",
     "output_type": "stream",
     "text": [
      "[[0 0 0 0 0 0 0 0 0 0]\n",
      " [0 2 2 2 2 0 0 0 3 3]\n",
      " [0 0 2 2 2 0 3 3 3 3]\n",
      " [0 0 2 2 0 0 3 3 3 3]\n",
      " [0 2 2 2 0 0 3 3 3 0]\n",
      " [0 0 0 0 0 0 0 0 3 0]\n",
      " [0 0 0 4 4 4 0 0 3 0]\n",
      " [0 0 0 4 4 4 4 0 0 0]\n",
      " [0 0 0 4 4 4 4 0 0 0]\n",
      " [0 0 0 0 0 0 4 0 0 0]]\n",
      "Island 1 size = 12\n",
      "Island 2 size = 15\n",
      "Island 3 size = 12\n"
     ]
    }
   ],
   "source": [
    "num = islandnum(island)                \n",
    "size = islandsize(island,num)\n",
    "for l in range(num):\n",
    "    print('Island',l+1,'size =',size[l])"
   ]
  }
 ],
 "metadata": {
  "kernelspec": {
   "display_name": "Python 3",
   "language": "python",
   "name": "python3"
  },
  "language_info": {
   "codemirror_mode": {
    "name": "ipython",
    "version": 3
   },
   "file_extension": ".py",
   "mimetype": "text/x-python",
   "name": "python",
   "nbconvert_exporter": "python",
   "pygments_lexer": "ipython3",
   "version": "3.8.8"
  }
 },
 "nbformat": 4,
 "nbformat_minor": 5
}
